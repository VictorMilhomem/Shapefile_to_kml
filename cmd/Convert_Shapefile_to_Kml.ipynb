{
  "cells": [
    {
      "attachments": {},
      "cell_type": "markdown",
      "metadata": {
        "id": "LAgPbjWifiDt"
      },
      "source": [
        "# Dependencies Installation"
      ]
    },
    {
      "cell_type": "code",
      "execution_count": 29,
      "metadata": {
        "colab": {
          "base_uri": "https://localhost:8080/"
        },
        "id": "qGsI5EWxYQTs",
        "outputId": "32b2b46d-4a8f-4a7f-8896-f4bd413a08ec"
      },
      "outputs": [
        {
          "name": "stdout",
          "output_type": "stream",
          "text": [
            "Looking in indexes: https://pypi.org/simple, https://us-python.pkg.dev/colab-wheels/public/simple/\n",
            "Requirement already satisfied: geopandas in /usr/local/lib/python3.10/dist-packages (0.13.2)\n",
            "Requirement already satisfied: simplekml in /usr/local/lib/python3.10/dist-packages (1.3.6)\n",
            "Requirement already satisfied: fiona>=1.8.19 in /usr/local/lib/python3.10/dist-packages (from geopandas) (1.9.4.post1)\n",
            "Requirement already satisfied: packaging in /usr/local/lib/python3.10/dist-packages (from geopandas) (23.1)\n",
            "Requirement already satisfied: pandas>=1.1.0 in /usr/local/lib/python3.10/dist-packages (from geopandas) (1.5.3)\n",
            "Requirement already satisfied: pyproj>=3.0.1 in /usr/local/lib/python3.10/dist-packages (from geopandas) (3.6.0)\n",
            "Requirement already satisfied: shapely>=1.7.1 in /usr/local/lib/python3.10/dist-packages (from geopandas) (2.0.1)\n",
            "Requirement already satisfied: attrs>=19.2.0 in /usr/local/lib/python3.10/dist-packages (from fiona>=1.8.19->geopandas) (23.1.0)\n",
            "Requirement already satisfied: certifi in /usr/local/lib/python3.10/dist-packages (from fiona>=1.8.19->geopandas) (2023.5.7)\n",
            "Requirement already satisfied: click~=8.0 in /usr/local/lib/python3.10/dist-packages (from fiona>=1.8.19->geopandas) (8.1.3)\n",
            "Requirement already satisfied: click-plugins>=1.0 in /usr/local/lib/python3.10/dist-packages (from fiona>=1.8.19->geopandas) (1.1.1)\n",
            "Requirement already satisfied: cligj>=0.5 in /usr/local/lib/python3.10/dist-packages (from fiona>=1.8.19->geopandas) (0.7.2)\n",
            "Requirement already satisfied: six in /usr/local/lib/python3.10/dist-packages (from fiona>=1.8.19->geopandas) (1.16.0)\n",
            "Requirement already satisfied: python-dateutil>=2.8.1 in /usr/local/lib/python3.10/dist-packages (from pandas>=1.1.0->geopandas) (2.8.2)\n",
            "Requirement already satisfied: pytz>=2020.1 in /usr/local/lib/python3.10/dist-packages (from pandas>=1.1.0->geopandas) (2022.7.1)\n",
            "Requirement already satisfied: numpy>=1.21.0 in /usr/local/lib/python3.10/dist-packages (from pandas>=1.1.0->geopandas) (1.22.4)\n"
          ]
        }
      ],
      "source": [
        "!pip install geopandas simplekml"
      ]
    },
    {
      "attachments": {},
      "cell_type": "markdown",
      "metadata": {
        "id": "BZZDy-3h1ews"
      },
      "source": [
        "# Optional Download File"
      ]
    },
    {
      "cell_type": "code",
      "execution_count": 30,
      "metadata": {
        "id": "I8BmzqcaZzHw"
      },
      "outputs": [],
      "source": [
        "import requests\n",
        "\n",
        "def download_shapefile(url, save_path):\n",
        "    response = requests.get(url)\n",
        "    if response.status_code == 200:\n",
        "        with open(save_path, 'wb') as f:\n",
        "            f.write(response.content)\n",
        "        print(\"Download Finished.\")\n",
        "    else:\n",
        "        print(\"Failed to Download File\")\n"
      ]
    },
    {
      "cell_type": "code",
      "execution_count": 31,
      "metadata": {
        "id": "TNcQTS_UZ7m5"
      },
      "outputs": [],
      "source": [
        "download_file = False #@param {type:\"boolean\"}\n",
        "url = '' #@param {type:\"string\"}\n",
        "save_path = '' #@param {type:\"string\"}\n",
        "\n",
        "if download_file:\n",
        "  download_shapefile(url, save_path)"
      ]
    },
    {
      "attachments": {},
      "cell_type": "markdown",
      "metadata": {
        "id": "2NnnlI6lgY6p"
      },
      "source": [
        "# Convert Shapefile to Kml"
      ]
    },
    {
      "cell_type": "code",
      "execution_count": 32,
      "metadata": {
        "id": "AKliwOkVYZPa"
      },
      "outputs": [],
      "source": [
        "import geopandas as gpd\n",
        "import simplekml"
      ]
    },
    {
      "cell_type": "code",
      "execution_count": 69,
      "metadata": {
        "id": "fICKG_6oYh95"
      },
      "outputs": [],
      "source": [
        "def shapefile_to_kml(shapefile_path=None, output_kml_path=None):\n",
        "    if shapefile_path==None or '': raise ValueError(\"None Type as Shapefile path.\")\n",
        "    gdf = gpd.read_file(shapefile_path)\n",
        "\n",
        "    kml = simplekml.Kml()\n",
        "\n",
        "    for index, row in gdf.iterrows():\n",
        "        geom = row['geometry']\n",
        "        kml_geom = geom.__geo_interface__\n",
        "\n",
        "        geometry_type = kml_geom['type']\n",
        "        field_name = gdf.columns[0]\n",
        "        placemark = kml.newmultigeometry(name=row[field_name])\n",
        "        if geometry_type == 'Point':\n",
        "            coordinates = kml_geom['coordinates']\n",
        "            placemark.newpoint(coords=[coordinates])\n",
        "        elif geometry_type == 'LineString':\n",
        "            coordinates = kml_geom['coordinates']\n",
        "            linestring = placemark.newlinestring()\n",
        "            linestring.coords = coordinates\n",
        "        elif geometry_type == 'Polygon':\n",
        "            coordinates = kml_geom['coordinates'][0]\n",
        "            polygon = placemark.newpolygon()\n",
        "            polygon.outerboundaryis = coordinates\n",
        "\n",
        "        for field in gdf.columns:\n",
        "            if field != 'geometry':\n",
        "                value = str(row[field])\n",
        "                placemark.extendeddata.schemadata.newsimpledata(field, value)\n",
        "    kml.save(output_kml_path)"
      ]
    },
    {
      "cell_type": "code",
      "execution_count": 71,
      "metadata": {
        "id": "WlE6Bx2VZeLU"
      },
      "outputs": [],
      "source": [
        "shapefile_path = \"/content/lm_aisp_2019.shp\" #@param {type:\"string\"}\n",
        "output_kml_path = '/content/aisp.kml'  #@param {type:\"string\"}\n",
        "shapefile_to_kml(shapefile_path=shapefile_path, output_kml_path=output_kml_path)"
      ]
    },
    {
      "cell_type": "code",
      "execution_count": null,
      "metadata": {
        "id": "X57XMLXC1wBW"
      },
      "outputs": [],
      "source": []
    }
  ],
  "metadata": {
    "colab": {
      "provenance": []
    },
    "kernelspec": {
      "display_name": "Python 3",
      "name": "python3"
    },
    "language_info": {
      "name": "python"
    }
  },
  "nbformat": 4,
  "nbformat_minor": 0
}
